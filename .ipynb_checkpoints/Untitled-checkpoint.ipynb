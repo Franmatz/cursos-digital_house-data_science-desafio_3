{
 "cells": [
  {
   "cell_type": "code",
   "execution_count": 1,
   "id": "9ab298f4",
   "metadata": {},
   "outputs": [],
   "source": [
    "import pandas as pd\n",
    "import numpy as np\n",
    "import matplotlib.pyplot as plt\n",
    "import seaborn as sns\n",
    "from sklearn.model_selection import train_test_split\n",
    "from sklearn.metrics import accuracy_score, confusion_matrix"
   ]
  },
  {
   "cell_type": "code",
   "execution_count": 15,
   "id": "98238e8c",
   "metadata": {},
   "outputs": [],
   "source": [
    "data_anime = pd.read_csv(r\"C:\\Users\\Fernando Gonzalez\\Downloads\\anime.csv\")"
   ]
  },
  {
   "cell_type": "code",
   "execution_count": 17,
   "id": "606756cd",
   "metadata": {},
   "outputs": [
    {
     "data": {
      "text/plain": [
       "Index(['MAL_ID', 'Name', 'Score', 'Genres', 'English name', 'Japanese name',\n",
       "       'Type', 'Episodes', 'Aired', 'Premiered', 'Producers', 'Licensors',\n",
       "       'Studios', 'Source', 'Duration', 'Rating', 'Ranked', 'Popularity',\n",
       "       'Members', 'Favorites', 'Watching', 'Completed', 'On-Hold', 'Dropped',\n",
       "       'Plan to Watch', 'Score-10', 'Score-9', 'Score-8', 'Score-7', 'Score-6',\n",
       "       'Score-5', 'Score-4', 'Score-3', 'Score-2', 'Score-1'],\n",
       "      dtype='object')"
      ]
     },
     "execution_count": 17,
     "metadata": {},
     "output_type": "execute_result"
    }
   ],
   "source": [
    "data_anime.columns"
   ]
  },
  {
   "cell_type": "code",
   "execution_count": 16,
   "id": "13c98eca",
   "metadata": {},
   "outputs": [],
   "source": [
    "data_rating = pd.read_csv(r\"C:\\Users\\Fernando Gonzalez\\Downloads\\rating_complete.csv\")"
   ]
  },
  {
   "cell_type": "code",
   "execution_count": 18,
   "id": "68eab2c1",
   "metadata": {},
   "outputs": [
    {
     "data": {
      "text/plain": [
       "Index(['user_id', 'anime_id', 'rating'], dtype='object')"
      ]
     },
     "execution_count": 18,
     "metadata": {},
     "output_type": "execute_result"
    }
   ],
   "source": [
    "data_rating.columns"
   ]
  },
  {
   "cell_type": "code",
   "execution_count": null,
   "id": "282d4101",
   "metadata": {},
   "outputs": [],
   "source": [
    "data = data_rating.join(data_anime, lsuffix='anime_id', rsuffix='MAL_ID')"
   ]
  },
  {
   "cell_type": "code",
   "execution_count": null,
   "id": "1e61938b",
   "metadata": {},
   "outputs": [],
   "source": []
  },
  {
   "cell_type": "code",
   "execution_count": null,
   "id": "80833417",
   "metadata": {},
   "outputs": [],
   "source": []
  }
 ],
 "metadata": {
  "kernelspec": {
   "display_name": "Python 3 (ipykernel)",
   "language": "python",
   "name": "python3"
  },
  "language_info": {
   "codemirror_mode": {
    "name": "ipython",
    "version": 3
   },
   "file_extension": ".py",
   "mimetype": "text/x-python",
   "name": "python",
   "nbconvert_exporter": "python",
   "pygments_lexer": "ipython3",
   "version": "3.9.7"
  }
 },
 "nbformat": 4,
 "nbformat_minor": 5
}
